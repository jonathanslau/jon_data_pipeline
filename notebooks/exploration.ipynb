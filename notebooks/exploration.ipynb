{
 "cells": [
  {
   "cell_type": "code",
   "execution_count": null,
   "metadata": {},
   "outputs": [],
   "source": [
    "import os\n",
    "import duckdb\n",
    "import pandas as pd\n"
   ]
  },
  {
   "cell_type": "code",
   "execution_count": 12,
   "metadata": {},
   "outputs": [],
   "source": [
    "path = os.getcwd()\n",
    "path_list = path.split('\\\\')\n",
    "root_dir = \"\\\\\".join(path_list[:-1])"
   ]
  },
  {
   "cell_type": "code",
   "execution_count": 13,
   "metadata": {},
   "outputs": [],
   "source": [
    "conn = duckdb.connect(f\"{root_dir}\\\\storage\\\\staging\\\\database.duckdb\")"
   ]
  },
  {
   "cell_type": "code",
   "execution_count": 17,
   "metadata": {},
   "outputs": [],
   "source": [
    "conn.close()"
   ]
  },
  {
   "cell_type": "code",
   "execution_count": 16,
   "metadata": {},
   "outputs": [
    {
     "name": "stdout",
     "output_type": "stream",
     "text": [
      "┌────────────┬──────────┬───────┬──────────────┬───────────┬────────────────┬─────────┬───────┬─────────────┬───────┐\n",
      "│   brand    │  model   │ year  │ engine_size  │ fuel_type │  transmission  │ mileage │ doors │ owner_count │ price │\n",
      "│  varchar   │ varchar  │ int32 │ decimal(3,1) │  varchar  │    varchar     │  int32  │ int8  │    int8     │ int16 │\n",
      "├────────────┼──────────┼───────┼──────────────┼───────────┼────────────────┼─────────┼───────┼─────────────┼───────┤\n",
      "│ Kia        │ Rio      │  2020 │          4.2 │ Diesel    │ Manual         │  289944 │     3 │           5 │  8501 │\n",
      "│ Chevrolet  │ Malibu   │  2012 │          2.0 │ Hybrid    │ Automatic      │    5356 │     2 │           3 │ 12092 │\n",
      "│ Mercedes   │ GLA      │  2020 │          4.2 │ Diesel    │ Automatic      │  231440 │     4 │           2 │ 11171 │\n",
      "│ Audi       │ Q5       │  2023 │          2.0 │ Electric  │ Manual         │  160971 │     2 │           1 │ 11780 │\n",
      "│ Volkswagen │ Golf     │  2003 │          2.6 │ Hybrid    │ Semi-Automatic │  286618 │     3 │           3 │  2867 │\n",
      "│ Toyota     │ Camry    │  2007 │          2.7 │ Petrol    │ Automatic      │  157889 │     4 │           4 │  7242 │\n",
      "│ Honda      │ Civic    │  2010 │          3.4 │ Electric  │ Automatic      │  139584 │     3 │           1 │ 11208 │\n",
      "│ Kia        │ Sportage │  2001 │          4.7 │ Electric  │ Semi-Automatic │  157495 │     2 │           2 │  7950 │\n",
      "│ Kia        │ Sportage │  2014 │          2.6 │ Hybrid    │ Manual         │   98700 │     3 │           4 │  9926 │\n",
      "│ Toyota     │ RAV4     │  2005 │          3.1 │ Petrol    │ Manual         │  107724 │     2 │           5 │  6545 │\n",
      "│  ·         │ ·        │    ·  │           ·  │   ·       │   ·            │     ·   │     · │           · │    ·  │\n",
      "│  ·         │ ·        │    ·  │           ·  │   ·       │   ·            │     ·   │     · │           · │    ·  │\n",
      "│  ·         │ ·        │    ·  │           ·  │   ·       │   ·            │     ·   │     · │           · │    ·  │\n",
      "│ Audi       │ A3       │  2019 │          1.8 │ Electric  │ Manual         │   85496 │     4 │           3 │ 11890 │\n",
      "│ Mercedes   │ E-Class  │  2017 │          1.1 │ Diesel    │ Automatic      │  179286 │     5 │           1 │  8214 │\n",
      "│ BMW        │ 5 Series │  2016 │          1.2 │ Hybrid    │ Automatic      │   13386 │     3 │           5 │ 12332 │\n",
      "│ Honda      │ Accord   │  2019 │          4.7 │ Hybrid    │ Semi-Automatic │  155874 │     4 │           3 │ 12382 │\n",
      "│ Honda      │ Civic    │  2016 │          2.9 │ Petrol    │ Manual         │  255889 │     2 │           2 │  6682 │\n",
      "│ Kia        │ Optima   │  2004 │          3.7 │ Diesel    │ Semi-Automatic │    5794 │     2 │           4 │  8884 │\n",
      "│ Chevrolet  │ Impala   │  2002 │          1.4 │ Electric  │ Automatic      │  168000 │     2 │           1 │  6240 │\n",
      "│ BMW        │ 3 Series │  2010 │          3.0 │ Petrol    │ Automatic      │   86664 │     5 │           1 │  9866 │\n",
      "│ Ford       │ Explorer │  2002 │          1.4 │ Hybrid    │ Automatic      │  225772 │     4 │           1 │  4084 │\n",
      "│ Volkswagen │ Tiguan   │  2001 │          2.1 │ Diesel    │ Manual         │  157882 │     3 │           3 │  3342 │\n",
      "├────────────┴──────────┴───────┴──────────────┴───────────┴────────────────┴─────────┴───────┴─────────────┴───────┤\n",
      "│ ? rows (>9999 rows, 20 shown)                                                                          10 columns │\n",
      "└───────────────────────────────────────────────────────────────────────────────────────────────────────────────────┘\n",
      "\n"
     ]
    }
   ],
   "source": [
    "conn.table(\"staging.car_price_dataset\").show()"
   ]
  }
 ],
 "metadata": {
  "kernelspec": {
   "display_name": "venv",
   "language": "python",
   "name": "python3"
  },
  "language_info": {
   "codemirror_mode": {
    "name": "ipython",
    "version": 3
   },
   "file_extension": ".py",
   "mimetype": "text/x-python",
   "name": "python",
   "nbconvert_exporter": "python",
   "pygments_lexer": "ipython3",
   "version": "3.11.0"
  }
 },
 "nbformat": 4,
 "nbformat_minor": 2
}
